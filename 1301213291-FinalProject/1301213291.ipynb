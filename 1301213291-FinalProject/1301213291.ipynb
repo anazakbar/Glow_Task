{
  "cells": [
    {
      "cell_type": "code",
      "execution_count": 1,
      "metadata": {
        "id": "_2LfIbdn0wmC",
        "colab": {
          "base_uri": "https://localhost:8080/"
        },
        "outputId": "87e0372c-f84c-49eb-d0b3-f7f3e0ab9547"
      },
      "outputs": [
        {
          "output_type": "stream",
          "name": "stdout",
          "text": [
            "Requirement already satisfied: rdflib in /usr/local/lib/python3.10/dist-packages (7.0.0)\n",
            "Requirement already satisfied: isodate<0.7.0,>=0.6.0 in /usr/local/lib/python3.10/dist-packages (from rdflib) (0.6.1)\n",
            "Requirement already satisfied: pyparsing<4,>=2.1.0 in /usr/local/lib/python3.10/dist-packages (from rdflib) (3.1.0)\n",
            "Requirement already satisfied: six in /usr/local/lib/python3.10/dist-packages (from isodate<0.7.0,>=0.6.0->rdflib) (1.16.0)\n",
            "Requirement already satisfied: graphviz in /usr/local/lib/python3.10/dist-packages (0.20.1)\n",
            "Requirement already satisfied: pydot in /usr/local/lib/python3.10/dist-packages (1.4.2)\n",
            "Requirement already satisfied: pyparsing>=2.1.4 in /usr/local/lib/python3.10/dist-packages (from pydot) (3.1.0)\n"
          ]
        }
      ],
      "source": [
        "!pip install rdflib\n",
        "!pip install graphviz\n",
        "!pip install pydot"
      ]
    },
    {
      "cell_type": "markdown",
      "source": [
        "for all data"
      ],
      "metadata": {
        "id": "6Xb1HnEFL_an"
      }
    },
    {
      "cell_type": "code",
      "source": [
        "import pandas as pd\n",
        "from rdflib import Graph, Literal, Namespace, RDF, URIRef\n",
        "from rdflib.namespace import FOAF, XSD\n",
        "import graphviz\n",
        "\n",
        "data = pd.read_csv('nba2k-full.csv')\n",
        "\n",
        "g = Graph()\n",
        "\n",
        "# Define namespaces\n",
        "ex = Namespace(\"http://example.org/\")\n",
        "nba = Namespace(\"http://example.org/nba2k20#\")\n",
        "g.bind(\"ex\", ex)\n",
        "g.bind(\"nba\", nba)\n",
        "g.bind(\"foaf\", FOAF)\n",
        "\n",
        "for _, row in data.iterrows():\n",
        "    player_uri = URIRef(ex[row['full_name'].replace(\" \", \"_\")])\n",
        "    g.add((player_uri, RDF.type, nba.Player))\n",
        "    g.add((player_uri, FOAF.name, Literal(row['full_name'])))\n",
        "    g.add((player_uri, nba.rating, Literal(int(row['rating']))))\n",
        "    g.add((player_uri, nba.jersey, Literal((row['jersey']))))\n",
        "    g.add((player_uri, nba.team, Literal((row['team']))))\n",
        "    g.add((player_uri, nba.position, Literal(row['position'])))\n",
        "    g.add((player_uri, nba.b_day, Literal((row['b_day']))))\n",
        "    g.add((player_uri, nba.height, Literal(row['height'])))\n",
        "    g.add((player_uri, nba.weight, Literal((row['weight']))))\n",
        "    g.add((player_uri, nba.salary, Literal((row['salary']))))\n",
        "    g.add((player_uri, nba.country, Literal(row['country'])))\n",
        "    g.add((player_uri, nba.draft_year, Literal((row['draft_year']))))\n",
        "    g.add((player_uri, nba.draft_round, Literal((row['draft_round']))))\n",
        "    g.add((player_uri, nba.draft_peak, Literal((row['draft_peak']))))\n",
        "    g.add((player_uri, nba.college, Literal(row['college'])))\n",
        "    g.add((player_uri, nba.version, Literal((row['version']))))\n",
        "\n",
        "output_file = \"outpul-all.ttl\"\n",
        "g.serialize(destination=output_file, format=\"turtle\")\n",
        "\n",
        "dot_data = f\"digraph G {{\\n\"\n",
        "\n",
        "for s, p, o in g.triples((None, FOAF.name, None)):\n",
        "    subject = str(s).split(\"/\")[-1].replace(\"_\", \" \")  # Extract and format the 'full_name'\n",
        "    rating = g.value(subject=s, predicate=nba.rating)\n",
        "    jersey = g.value(subject=s, predicate=nba.jersey)\n",
        "    team = g.value(subject=s, predicate=nba.team)\n",
        "    position = g.value(subject=s, predicate=nba.position)\n",
        "    b_day = g.value(subject=s, predicate=nba.b_day)\n",
        "    height = g.value(subject=s, predicate=nba.height)\n",
        "    weight = g.value(subject=s, predicate=nba.weight)\n",
        "    salary = g.value(subject=s, predicate=nba.salary)\n",
        "    country = g.value(subject=s, predicate=nba.country)\n",
        "    draft_year = g.value(subject=s, predicate=nba.draft_year)\n",
        "    draft_round = g.value(subject=s, predicate=nba.draft_round)\n",
        "    draft_peak = g.value(subject=s, predicate=nba.draft_peak)\n",
        "    college = g.value(subject=s, predicate=nba.college)\n",
        "    version = g.value(subject=s, predicate=nba.version)\n",
        "\n",
        "    dot_data += (f' \"{subject}\" -> \"{rating}\" [label=\"has rating\"];\\n')\n",
        "    dot_data += (f' \"{subject}\" -> \"{jersey}\" [label=\"has jersey\"];\\n')\n",
        "    dot_data += (f' \"{subject}\" -> \"{team}\" [label=\"current Team\"];\\n')\n",
        "    dot_data += (f' \"{subject}\" -> \"{position}\" [label=\"has position\"];\\n')\n",
        "    dot_data += (f' \"{subject}\" -> \"{b_day}\" [label=\"birth day\"];\\n')\n",
        "    dot_data += (f' \"{subject}\" -> \"{height}\" [label=\"has height\"];\\n')\n",
        "    dot_data += (f' \"{subject}\" -> \"{weight}\" [label=\"has weight\"];\\n')\n",
        "    dot_data += (f' \"{subject}\" -> \"{salary}\" [label=\"has salary\"];\\n')\n",
        "    dot_data += (f' \"{subject}\" -> \"{country}\" [label=\"from country\"];\\n')\n",
        "    dot_data += (f' \"{subject}\" -> \"{draft_year}\" [label=\"draft year\"];\\n')\n",
        "    dot_data += (f' \"{subject}\" -> \"{draft_round}\" [label=\"draft round\"];\\n')\n",
        "    dot_data += (f' \"{subject}\" -> \"{draft_peak}\" [label=\"draft peak\"];\\n')\n",
        "    dot_data += (f' \"{subject}\" -> \"{college}\" [label=\"college at\"];\\n')\n",
        "    dot_data += (f' \"{subject}\" -> \"{version}\" [label=\"version in\"];\\n')\n",
        "dot_data += \"}\"\n",
        "\n",
        "# Render the DOT\n",
        "graph = graphviz.Source(dot_data)\n",
        "graph.format = \"pdf\"\n",
        "graph.render(filename=\"nba2k_player_all_graph\", view=True)\n"
      ],
      "metadata": {
        "colab": {
          "base_uri": "https://localhost:8080/",
          "height": 35
        },
        "id": "txZF1s6vmqDE",
        "outputId": "bec58211-1065-4fa6-cbbf-93196087b1f2"
      },
      "execution_count": 2,
      "outputs": [
        {
          "output_type": "execute_result",
          "data": {
            "text/plain": [
              "'nba2k_player_all_graph.pdf'"
            ],
            "application/vnd.google.colaboratory.intrinsic+json": {
              "type": "string"
            }
          },
          "metadata": {},
          "execution_count": 2
        }
      ]
    },
    {
      "cell_type": "markdown",
      "source": [
        "for several data"
      ],
      "metadata": {
        "id": "NCsvS_vAMCX9"
      }
    },
    {
      "cell_type": "code",
      "source": [
        "import pandas as pd\n",
        "from rdflib import Graph, Literal, Namespace, RDF, URIRef\n",
        "from rdflib.namespace import FOAF\n",
        "import graphviz\n",
        "\n",
        "data = pd.read_csv('nba2k-full.csv')\n",
        "\n",
        "# Create a new RDF graph\n",
        "g1 = Graph()\n",
        "\n",
        "# Define namespaces\n",
        "ex = Namespace(\"http://example.org/\")\n",
        "nba = Namespace(\"http://example.org/nba2k20#\")\n",
        "g1.bind(\"ex\", ex)\n",
        "g1.bind(\"nba\", nba)\n",
        "g1.bind(\"foaf\", FOAF)\n",
        "\n",
        "names_to_show = [\"Aaron Gordon\", \"Blake Griffin\", \"Caleb Swanigan\", \"Cheick Diallo\", \"Danilo Gallinari\"]\n",
        "\n",
        "for _, row in data.iterrows():\n",
        "    full_name = row['full_name']\n",
        "    if full_name in names_to_show:\n",
        "        player_uri = URIRef(ex[full_name.replace(\" \", \"_\")])\n",
        "        g1.add((player_uri, RDF.type, nba.Player))\n",
        "        g1.add((player_uri, FOAF.name, Literal(full_name)))\n",
        "        g1.add((player_uri, nba.rating, Literal(int(row['rating']))))\n",
        "        g1.add((player_uri, nba.jersey, Literal(row['jersey'])))\n",
        "        g1.add((player_uri, nba.team, Literal(row['team'])))\n",
        "        g1.add((player_uri, nba.position, Literal(row['position'])))\n",
        "        g1.add((player_uri, nba.b_day, Literal(row['b_day'])))\n",
        "        g1.add((player_uri, nba.height, Literal(row['height'])))\n",
        "        g1.add((player_uri, nba.weight, Literal(row['weight'])))\n",
        "        g1.add((player_uri, nba.salary, Literal(row['salary'])))\n",
        "        g1.add((player_uri, nba.country, Literal(row['country'])))\n",
        "        g1.add((player_uri, nba.draft_year, Literal(row['draft_year'])))\n",
        "        g1.add((player_uri, nba.draft_round, Literal(row['draft_round'])))\n",
        "        g1.add((player_uri, nba.draft_peak, Literal(row['draft_peak'])))\n",
        "        g1.add((player_uri, nba.college, Literal(row['college'])))\n",
        "        g1.add((player_uri, nba.version, Literal(row['version'])))\n",
        "\n",
        "output_file = \"output-several.ttl\"\n",
        "g1.serialize(destination=output_file, format=\"turtle\")\n",
        "\n",
        "dot_data1 = f\"digraph G {{\\n\"\n",
        "\n",
        "for s, p, o in g1.triples((None, FOAF.name, None)):\n",
        "    subject = str(s).split(\"/\")[-1].replace(\"_\", \" \")\n",
        "    rating = g1.value(subject=s, predicate=nba.rating)\n",
        "    jersey = g1.value(subject=s, predicate=nba.jersey)\n",
        "    team = g1.value(subject=s, predicate=nba.team)\n",
        "    position = g1.value(subject=s, predicate=nba.position)\n",
        "    b_day = g1.value(subject=s, predicate=nba.b_day)\n",
        "    height = g1.value(subject=s, predicate=nba.height)\n",
        "    weight = g1.value(subject=s, predicate=nba.weight)\n",
        "    salary = g1.value(subject=s, predicate=nba.salary)\n",
        "    country = g1.value(subject=s, predicate=nba.country)\n",
        "    draft_year = g1.value(subject=s, predicate=nba.draft_year)\n",
        "    draft_round = g1.value(subject=s, predicate=nba.draft_round)\n",
        "    draft_peak = g1.value(subject=s, predicate=nba.draft_peak)\n",
        "    college = g1.value(subject=s, predicate=nba.college)\n",
        "    version = g1.value(subject=s, predicate=nba.version)\n",
        "\n",
        "    dot_data1 += (f' \"{subject}\" -> \"{rating}\" [label=\"has rating\"];\\n')\n",
        "    dot_data1 += (f' \"{subject}\" -> \"{jersey}\" [label=\"has jersey\"];\\n')\n",
        "    dot_data1 += (f' \"{subject}\" -> \"{team}\" [label=\"current Team\"];\\n')\n",
        "    dot_data1 += (f' \"{subject}\" -> \"{position}\" [label=\"has position\"];\\n')\n",
        "    dot_data1 += (f' \"{subject}\" -> \"{b_day}\" [label=\"birth day\"];\\n')\n",
        "    dot_data1 += (f' \"{subject}\" -> \"{height}\" [label=\"has height\"];\\n')\n",
        "    dot_data1 += (f' \"{subject}\" -> \"{weight}\" [label=\"has weight\"];\\n')\n",
        "    dot_data1 += (f' \"{subject}\" -> \"{salary}\" [label=\"has salary\"];\\n')\n",
        "    dot_data1 += (f' \"{subject}\" -> \"{country}\" [label=\"from country\"];\\n')\n",
        "    dot_data1 += (f' \"{subject}\" -> \"{draft_year}\" [label=\"draft year\"];\\n')\n",
        "    dot_data1 += (f' \"{subject}\" -> \"{draft_round}\" [label=\"draft round\"];\\n')\n",
        "    dot_data1 += (f' \"{subject}\" -> \"{draft_peak}\" [label=\"draft peak\"];\\n')\n",
        "    dot_data1 += (f' \"{subject}\" -> \"{college}\" [label=\"college at\"];\\n')\n",
        "    dot_data1 += (f' \"{subject}\" -> \"{version}\" [label=\"version in\"];\\n')\n",
        "dot_data1 += \"}\"\n",
        "\n",
        "# Render the DOT\n",
        "graph = graphviz.Source(dot_data1)\n",
        "graph.format = \"pdf\"\n",
        "graph.render(filename=\"nba2k_player_several_graph\", view=True)\n"
      ],
      "metadata": {
        "colab": {
          "base_uri": "https://localhost:8080/",
          "height": 35
        },
        "id": "SvO6GzNepZqz",
        "outputId": "fe5da3ff-c6c3-4f4a-8835-e00d326a5571"
      },
      "execution_count": 3,
      "outputs": [
        {
          "output_type": "execute_result",
          "data": {
            "text/plain": [
              "'nba2k_player_several_graph.pdf'"
            ],
            "application/vnd.google.colaboratory.intrinsic+json": {
              "type": "string"
            }
          },
          "metadata": {},
          "execution_count": 3
        }
      ]
    },
    {
      "cell_type": "markdown",
      "source": [
        "Select query 1"
      ],
      "metadata": {
        "id": "JvFMl8D1ZfvN"
      }
    },
    {
      "cell_type": "code",
      "source": [
        "querysel1 = \"\"\"\n",
        "    SELECT ?player ?name ?team\n",
        "    WHERE {\n",
        "        ?player rdf:type nba:Player ;\n",
        "                foaf:name ?name ;\n",
        "                nba:team ?team .\n",
        "    }\n",
        "LIMIT 5\n",
        "\"\"\"\n",
        "\n",
        "results = g.query(querysel1)\n",
        "\n",
        "dot_data_query1 = f\"digraph G {{\\n\"\n",
        "\n",
        "for row in results:\n",
        "    subject = str(row['player']).split(\"/\")[-1].replace(\"_\", \" \")\n",
        "    team = str(row['team']).split(\"/\")[-1].replace(\"_\", \" \")\n",
        "\n",
        "    dot_data_query1 += (f' \"{subject}\" -> \"{team}\" [label=\"current Team\"];\\n')\n",
        "dot_data_query1 += \"}\"\n",
        "\n",
        "graph = graphviz.Source(dot_data_query1)\n",
        "graph.format = \"pdf\"\n",
        "graph.render(filename=\"query_select1_graph\", view=True)\n",
        "\n",
        "for row in results:\n",
        "    print(f\"Player: {row['player']} - Name: {row['name']} - Team: {row['team']}\")\n"
      ],
      "metadata": {
        "id": "LRuAmgNdg4Tc",
        "outputId": "9806d693-b9d3-4b1d-ff1e-e5f0597c3420",
        "colab": {
          "base_uri": "https://localhost:8080/"
        }
      },
      "execution_count": 4,
      "outputs": [
        {
          "output_type": "stream",
          "name": "stdout",
          "text": [
            "Player: http://example.org/LeBron_James - Name: LeBron James - Team: Los Angeles Lakers\n",
            "Player: http://example.org/Kawhi_Leonard - Name: Kawhi Leonard - Team: Los Angeles Clippers\n",
            "Player: http://example.org/Giannis_Antetokounmpo - Name: Giannis Antetokounmpo - Team: Milwaukee Bucks\n",
            "Player: http://example.org/Kevin_Durant - Name: Kevin Durant - Team: Brooklyn Nets\n",
            "Player: http://example.org/James_Harden - Name: James Harden - Team: Houston Rockets\n"
          ]
        }
      ]
    },
    {
      "cell_type": "markdown",
      "source": [
        "select quary 2"
      ],
      "metadata": {
        "id": "aYMweZM2UNRo"
      }
    },
    {
      "cell_type": "code",
      "source": [
        "querysel2 = \"\"\"\n",
        "SELECT ?name ?rating\n",
        "WHERE {\n",
        "  ?player foaf:name ?name ;\n",
        "          nba:rating ?rating .\n",
        "}\n",
        "\"\"\"\n",
        "result = g.query(querysel2)\n",
        "\n",
        "dot_data_query2 = f\"digraph G {{\\n\"\n",
        "\n",
        "for row in result:\n",
        "    subject = str(row['name']).split(\"/\")[-1].replace(\"_\", \" \")\n",
        "    rating = str(row['rating']).split(\"/\")[-1].replace(\"_\", \" \")\n",
        "\n",
        "    dot_data_query2 += (f' \"{subject}\" -> \"{rating}\" [label=\"has rating\"];\\n')\n",
        "dot_data_query2 += \"}\"\n",
        "\n",
        "graph = graphviz.Source(dot_data_query2)\n",
        "graph.format = \"pdf\"\n",
        "graph.render(filename=\"query_select2_graph\", view=True)\n",
        "\n",
        "for row in result:\n",
        "    print(f\"Player: {row['name']} | Rating: {row['rating']}\")\n"
      ],
      "metadata": {
        "colab": {
          "base_uri": "https://localhost:8080/"
        },
        "id": "K0oDMHaiUPHy",
        "outputId": "489e863c-bdad-425d-b4cb-2164730b32f8"
      },
      "execution_count": 5,
      "outputs": [
        {
          "output_type": "stream",
          "name": "stdout",
          "text": [
            "Player: LeBron James | Rating: 97\n",
            "Player: Kawhi Leonard | Rating: 97\n",
            "Player: Giannis Antetokounmpo | Rating: 97\n",
            "Player: Giannis Antetokounmpo | Rating: 96\n",
            "Player: Kevin Durant | Rating: 96\n",
            "Player: James Harden | Rating: 96\n",
            "Player: Kawhi Leonard | Rating: 96\n",
            "Player: Stephen Curry | Rating: 96\n",
            "Player: LeBron James | Rating: 96\n",
            "Player: Stephen Curry | Rating: 95\n",
            "Player: Kevin Durant | Rating: 95\n",
            "Player: Anthony Davis | Rating: 95\n",
            "Player: Nikola Jokic | Rating: 95\n",
            "Player: Joel Embiid | Rating: 95\n",
            "Player: Kawhi Leonard | Rating: 95\n",
            "Player: Anthony Davis | Rating: 94\n",
            "Player: Luka Doncic | Rating: 94\n",
            "Player: Damian Lillard | Rating: 94\n",
            "Player: James Harden | Rating: 94\n",
            "Player: Paul George | Rating: 93\n",
            "Player: Damian Lillard | Rating: 92\n",
            "Player: Joel Embiid | Rating: 91\n",
            "Player: Kyrie Irving | Rating: 91\n",
            "Player: Nikola Jokic | Rating: 90\n",
            "Player: Russell Westbrook | Rating: 90\n",
            "Player: Paul George | Rating: 90\n",
            "Player: Kyrie Irving | Rating: 90\n",
            "Player: Karl-Anthony Towns | Rating: 90\n",
            "Player: Klay Thompson | Rating: 89\n",
            "Player: Karl-Anthony Towns | Rating: 89\n",
            "Player: Jimmy Butler | Rating: 89\n",
            "Player: Jimmy Butler | Rating: 88\n",
            "Player: Rudy Gobert | Rating: 88\n",
            "Player: Blake Griffin | Rating: 88\n",
            "Player: Donovan Mitchell | Rating: 88\n",
            "Player: Kemba Walker | Rating: 88\n",
            "Player: Trae Young | Rating: 88\n",
            "Player: Russell Westbrook | Rating: 88\n",
            "Player: Pascal Siakam | Rating: 88\n",
            "Player: Chris Paul | Rating: 88\n",
            "Player: Bradley Beal | Rating: 88\n",
            "Player: Luka Doncic | Rating: 87\n",
            "Player: LaMarcus Aldridge | Rating: 87\n",
            "Player: Bradley Beal | Rating: 87\n",
            "Player: Mike Conley | Rating: 87\n",
            "Player: DeMar DeRozan | Rating: 87\n",
            "Player: CJ McCollum | Rating: 87\n",
            "Player: Victor Oladipo | Rating: 87\n",
            "Player: Kristaps Porzingis | Rating: 87\n",
            "Player: D'Angelo Russell | Rating: 87\n",
            "Player: Pascal Siakam | Rating: 87\n",
            "Player: Ben Simmons | Rating: 87\n",
            "Player: Rudy Gobert | Rating: 87\n",
            "Player: Kyle Lowry | Rating: 87\n",
            "Player: De'Aaron Fox | Rating: 86\n",
            "Player: Devin Booker | Rating: 86\n",
            "Player: DeMarcus Cousins | Rating: 86\n",
            "Player: Andre Drummond | Rating: 86\n",
            "Player: Draymond Green | Rating: 86\n",
            "Player: Jrue Holiday | Rating: 86\n",
            "Player: Nikola Vucevic | Rating: 86\n",
            "Player: John Wall | Rating: 86\n",
            "Player: Jayson Tatum | Rating: 85\n",
            "Player: Trae Young | Rating: 85\n",
            "Player: Eric Bledsoe | Rating: 85\n",
            "Player: Clint Capela | Rating: 85\n",
            "Player: Tobias Harris | Rating: 85\n",
            "Player: Al Horford | Rating: 85\n",
            "Player: Zach LaVine | Rating: 85\n",
            "Player: Kyle Lowry | Rating: 85\n",
            "Player: Khris Middleton | Rating: 85\n",
            "Player: Chris Paul | Rating: 85\n",
            "Player: John Collins | Rating: 84\n",
            "Player: Buddy Hield | Rating: 84\n",
            "Player: Kyle Kuzma | Rating: 84\n",
            "Player: Jamal Murray | Rating: 84\n",
            "Player: Louis Williams | Rating: 84\n",
            "Player: Marvin Bagley | Rating: 83\n",
            "Player: Bojan Bogdanovic | Rating: 83\n",
            "Player: Malcolm Brogdon | Rating: 83\n",
            "Player: Danilo Gallinari | Rating: 83\n",
            "Player: Montrezl Harrell | Rating: 83\n",
            "Player: Kevin Love | Rating: 83\n",
            "Player: Lauri Markkanen | Rating: 83\n",
            "Player: Jusuf Nurkic | Rating: 83\n",
            "Player: Julius Randle | Rating: 83\n",
            "Player: Marc Gasol | Rating: 82\n",
            "Player: Steven Adams | Rating: 82\n",
            "Player: Deandre Ayton | Rating: 82\n",
            "Player: Spencer Dinwiddie | Rating: 82\n",
            "Player: Jaren Jackson | Rating: 82\n",
            "Player: Paul Millsap | Rating: 82\n",
            "Player: Marcus Smart | Rating: 82\n",
            "Player: Myles Turner | Rating: 82\n",
            "Player: Serge Ibaka | Rating: 81\n",
            "Player: Zion Williamson | Rating: 81\n",
            "Player: Rudy Gay | Rating: 81\n",
            "Player: Aaron Gordon | Rating: 81\n",
            "Player: Brandon Ingram | Rating: 81\n",
            "Player: DeAndre Jordan | Rating: 81\n",
            "Player: Domantas Sabonis | Rating: 81\n",
            "Player: Jonas Valanciunas | Rating: 81\n",
            "Player: Hassan Whiteside | Rating: 81\n",
            "Player: Derrick Rose | Rating: 80\n",
            "Player: Robert Covington | Rating: 80\n",
            "Player: Derrick Favors | Rating: 80\n",
            "Player: Gordon Hayward | Rating: 80\n",
            "Player: Reggie Jackson | Rating: 80\n",
            "Player: Enes Kanter | Rating: 80\n",
            "Player: Otto Porter | Rating: 80\n",
            "Player: JJ Redick | Rating: 80\n",
            "Player: Josh Richardson | Rating: 80\n",
            "Player: TJ Warren | Rating: 80\n",
            "Player: Ja Morant | Rating: 79\n",
            "Player: Bam Adebayo | Rating: 79\n",
            "Player: Jarrett Allen | Rating: 79\n",
            "Player: Lonzo Ball | Rating: 79\n",
            "Player: Harrison Barnes | Rating: 79\n",
            "Player: Patrick Beverley | Rating: 79\n",
            "Player: Jaylen Brown | Rating: 79\n",
            "Player: Willie Cauley-Stein | Rating: 79\n",
            "Player: Goran Dragic | Rating: 79\n",
            "Player: Shai Gilgeous-Alexander | Rating: 79\n",
            "Player: Gary Harris | Rating: 79\n",
            "Player: Joe Ingles | Rating: 79\n",
            "Player: Jeremy Lamb | Rating: 79\n",
            "Player: Brook Lopez | Rating: 79\n",
            "Player: JaVale McGee | Rating: 79\n",
            "Player: Mitchell Robinson | Rating: 79\n",
            "Player: Terrence Ross | Rating: 79\n",
            "Player: Tristan Thompson | Rating: 79\n",
            "Player: PJ Tucker | Rating: 79\n",
            "Player: Fred VanVleet | Rating: 79\n",
            "Player: Andrew Wiggins | Rating: 79\n",
            "Player: Thaddeus Young | Rating: 79\n",
            "Player: RJ Barrett | Rating: 78\n",
            "Player: Ricky Rubio | Rating: 78\n",
            "Player: Will Barton | Rating: 78\n",
            "Player: Bogdan Bogdanovic | Rating: 78\n",
            "Player: Thomas Bryant | Rating: 78\n",
            "Player: Wendell Carter | Rating: 78\n",
            "Player: Jordan Clarkson | Rating: 78\n",
            "Player: Evan Fournier | Rating: 78\n",
            "Player: Eric Gordon | Rating: 78\n",
            "Player: JaMychal Green | Rating: 78\n",
            "Player: Joe Harris | Rating: 78\n",
            "Player: Andre Iguodala | Rating: 78\n",
            "Player: Caris LeVert | Rating: 78\n",
            "Player: Marcus Morris | Rating: 78\n",
            "Player: Dejounte Murray | Rating: 78\n",
            "Player: Larry Nance Jr | Rating: 78\n",
            "Player: Kelly Olynyk | Rating: 78\n",
            "Player: Kelly Oubre | Rating: 78\n",
            "Player: Jabari Parker | Rating: 78\n",
            "Player: Bobby Portis | Rating: 78\n",
            "Player: Terry Rozier | Rating: 78\n",
            "Player: Dennis Schroeder | Rating: 78\n",
            "Player: Jeff Teague | Rating: 78\n",
            "Player: Derrick White | Rating: 78\n",
            "Player: Justise Winslow | Rating: 78\n",
            "Player: Darius Garland | Rating: 77\n",
            "Player: De'Andre Hunter | Rating: 77\n",
            "Player: Al-Farouq Aminu | Rating: 77\n",
            "Player: Mo Bamba | Rating: 77\n",
            "Player: Nicolas Batum | Rating: 77\n",
            "Player: Malik Beasley | Rating: 77\n",
            "Player: Nemanja Bjelica | Rating: 77\n",
            "Player: DeMarre Carroll | Rating: 77\n",
            "Player: Ed Davis | Rating: 77\n",
            "Player: Taj Gibson | Rating: 77\n",
            "Player: Jerami Grant | Rating: 77\n",
            "Player: Danny Green | Rating: 77\n",
            "Player: Tim Hardaway Jr | Rating: 77\n",
            "Player: Alex Len | Rating: 77\n",
            "Player: Kevon Looney | Rating: 77\n",
            "Player: Monte Morris | Rating: 77\n",
            "Player: Nerlens Noel | Rating: 77\n",
            "Player: Mason Plumlee | Rating: 77\n",
            "Player: Jakob Poeltl | Rating: 77\n",
            "Player: Dwight Powell | Rating: 77\n",
            "Player: Taurean Prince | Rating: 77\n",
            "Player: Dario Saric | Rating: 77\n",
            "Player: Collin Sexton | Rating: 77\n",
            "Player: Dennis Smith | Rating: 77\n",
            "Player: Cody Zeller | Rating: 77\n",
            "Player: Ivica Zubac | Rating: 77\n",
            "Player: Jarrett Culver | Rating: 77\n",
            "Player: Willy Hernangomez | Rating: 76\n",
            "Player: Trevor Ariza | Rating: 76\n",
            "Player: DJ Augustin | Rating: 76\n",
            "Player: Jose Juan Barea | Rating: 76\n",
            "Player: Michael Beasley | Rating: 76\n",
            "Player: Davis Bertans | Rating: 76\n",
            "Player: Avery Bradley | Rating: 76\n",
            "Player: Miles Bridges | Rating: 76\n",
            "Player: Jalen Brunson | Rating: 76\n",
            "Player: Kentavious Caldwell-Pope | Rating: 76\n",
            "Player: Jae Crowder | Rating: 76\n",
            "Player: Dewayne Dedmon | Rating: 76\n",
            "Player: Gorgui Dieng | Rating: 76\n",
            "Player: Gerald Green | Rating: 76\n",
            "Player: Jeff Green | Rating: 76\n",
            "Player: Rodney Hood | Rating: 76\n",
            "Player: Kevin Huerter | Rating: 76\n",
            "Player: Ersan Ilyasova | Rating: 76\n",
            "Player: Jonathan Isaac | Rating: 76\n",
            "Player: Josh Jackson | Rating: 76\n",
            "Player: Frank Kaminsky | Rating: 76\n",
            "Player: Michael Kidd-Gilchrist | Rating: 76\n",
            "Player: Kevin Knox | Rating: 76\n",
            "Player: Meyers Leonard | Rating: 76\n",
            "Player: Wesley Matthews | Rating: 76\n",
            "Player: Emmanuel Mudiay | Rating: 76\n",
            "Player: Jahlil Okafor | Rating: 76\n",
            "Player: Elfrid Payton | Rating: 76\n",
            "Player: Michael Porter | Rating: 76\n",
            "Player: Austin Rivers | Rating: 76\n",
            "Player: Andre Roberson | Rating: 76\n",
            "Player: Rajon Rondo | Rating: 76\n",
            "Player: Landry Shamet | Rating: 76\n",
            "Player: Daniel Theis | Rating: 76\n",
            "Player: Isaiah Thomas | Rating: 76\n",
            "Player: Dion Waiters | Rating: 76\n",
            "Player: Marvin Williams | Rating: 76\n",
            "Player: Delon Wright | Rating: 76\n",
            "Player: Coby White | Rating: 76\n",
            "Player: Pau Gasol | Rating: 75\n",
            "Player: Aron Baynes | Rating: 75\n",
            "Player: Kent Bazemore | Rating: 75\n",
            "Player: Marco Belinelli | Rating: 75\n",
            "Player: Bismack Biyombo | Rating: 75\n",
            "Player: Mikal Bridges | Rating: 75\n",
            "Player: Wilson Chandler | Rating: 75\n",
            "Player: Damyean Dotson | Rating: 75\n",
            "Player: Kris Dunn | Rating: 75\n",
            "Player: Wayne Ellington | Rating: 75\n",
            "Player: Bryn Forbes | Rating: 75\n",
            "Player: Josh Hart | Rating: 75\n",
            "Player: John Henson | Rating: 75\n",
            "Player: Mario Hezonja | Rating: 75\n",
            "Player: George Hill | Rating: 75\n",
            "Player: Rondae Hollis-Jefferson | Rating: 75\n",
            "Player: Richaun Holmes | Rating: 75\n",
            "Player: James Johnson | Rating: 75\n",
            "Player: Luke Kennard | Rating: 75\n",
            "Player: Kyle Korver | Rating: 75\n",
            "Player: Rodions Kurucs | Rating: 75\n",
            "Player: Jake Layman | Rating: 75\n",
            "Player: Robin Lopez | Rating: 75\n",
            "Player: Trey Lyles | Rating: 75\n",
            "Player: Boban Marjanovic | Rating: 75\n",
            "Player: TJ McConnell | Rating: 75\n",
            "Player: Patrick Mills | Rating: 75\n",
            "Player: Malik Monk | Rating: 75\n",
            "Player: Markieff Morris | Rating: 75\n",
            "Player: Shabazz Napier | Rating: 75\n",
            "Player: Cedi Osman | Rating: 75\n",
            "Player: Tomas Satoransky | Rating: 75\n",
            "Player: Mike Scott | Rating: 75\n",
            "Player: Noah Vonleh | Rating: 75\n",
            "Player: Allonzo Trier | Rating: 75\n",
            "Player: Juan Hernangomez | Rating: 74\n",
            "Player: Kyle Anderson | Rating: 74\n",
            "Player: Jordan Bell | Rating: 74\n",
            "Player: Khem Birch | Rating: 74\n",
            "Player: Dillon Brooks | Rating: 74\n",
            "Player: Reggie Bullock | Rating: 74\n",
            "Player: Zach Collins | Rating: 74\n",
            "Player: Pat Connaughton | Rating: 74\n",
            "Player: Quinn Cook | Rating: 74\n",
            "Player: Torrey Craig | Rating: 74\n",
            "Player: Seth Curry | Rating: 74\n",
            "Player: Cheick Diallo | Rating: 74\n",
            "Player: Yogi Ferrell | Rating: 74\n",
            "Player: Markelle Fultz | Rating: 74\n",
            "Player: Harry Giles | Rating: 74\n",
            "Player: Moe Harkless | Rating: 74\n",
            "Player: Justin Jackson | Rating: 74\n",
            "Player: Tyler Johnson | Rating: 74\n",
            "Player: Derrick Jones | Rating: 74\n",
            "Player: Cory Joseph | Rating: 74\n",
            "Player: Maxi Kleber | Rating: 74\n",
            "Player: TJ Leaf | Rating: 74\n",
            "Player: Doug McDermott | Rating: 74\n",
            "Player: E'Twaun Moore | Rating: 74\n",
            "Player: Joakim Noah | Rating: 74\n",
            "Player: Kyle O'Quinn | Rating: 74\n",
            "Player: Chandler Parsons | Rating: 74\n",
            "Player: Norman Powell | Rating: 74\n",
            "Player: Ivan Rabb | Rating: 74\n",
            "Player: Glenn Robinson III | Rating: 74\n",
            "Player: Denzel Valentine | Rating: 74\n",
            "Player: Robert Williams | Rating: 74\n",
            "Player: Christian Wood | Rating: 74\n",
            "Player: Jaxson Hayes | Rating: 74\n",
            "Player: Rui Hachimura | Rating: 74\n",
            "Player: OG Anunoby | Rating: 73\n",
            "Player: Dwayne Bacon | Rating: 73\n",
            "Player: DeAndre Bembry | Rating: 73\n",
            "Player: Jonah Bolden | Rating: 73\n",
            "Player: Sterling Brown | Rating: 73\n",
            "Player: Bruce Brown | Rating: 73\n",
            "Player: Troy Brown | Rating: 73\n",
            "Player: Alec Burks | Rating: 73\n",
            "Player: Alex Caruso | Rating: 73\n",
            "Player: Tyson Chandler | Rating: 73\n",
            "Player: Allen Crabbe | Rating: 73\n",
            "Player: Matthew Dellavedova | Rating: 73\n",
            "Player: James Ennis | Rating: 73\n",
            "Player: Dorian Finney-Smith | Rating: 73\n",
            "Player: Shaquille Harrison | Rating: 73\n",
            "Player: Aaron Holiday | Rating: 73\n",
            "Player: Danuel House | Rating: 73\n",
            "Player: Stanley Johnson | Rating: 73\n",
            "Player: Tyus Jones | Rating: 73\n",
            "Player: Furkan Korkmaz | Rating: 73\n",
            "Player: Ian Mahinmi | Rating: 73\n",
            "Player: CJ Miles | Rating: 73\n",
            "Player: Mike Muscala | Rating: 73\n",
            "Player: Frank Ntilikina | Rating: 73\n",
            "Player: David Nwaba | Rating: 73\n",
            "Player: Royce O'Neale | Rating: 73\n",
            "Player: Semi Ojeleye | Rating: 73\n",
            "Player: Josh Okogie | Rating: 73\n",
            "Player: Jonathon Simmons | Rating: 73\n",
            "Player: Ishmael Smith | Rating: 73\n",
            "Player: Tony Snell | Rating: 73\n",
            "Player: Omari Spellman | Rating: 73\n",
            "Player: Garrett Temple | Rating: 73\n",
            "Player: Evan Turner | Rating: 73\n",
            "Player: Lonnie Walker | Rating: 73\n",
            "Player: Brad Wanamaker | Rating: 73\n",
            "Player: Ante Zizic | Rating: 73\n",
            "Player: Tyler Herro | Rating: 73\n",
            "Player: Vincent Poirier | Rating: 73\n",
            "Player: Sekou Doumbouya | Rating: 73\n",
            "Player: Brandon Clarke | Rating: 73\n",
            "Player: Nicolo Melli | Rating: 73\n",
            "Player: Nassir Little | Rating: 73\n",
            "Player: Grayson Allen | Rating: 72\n",
            "Player: Antonio Blakeney | Rating: 72\n",
            "Player: Michael Carter-Williams | Rating: 72\n",
            "Player: Troy Daniels | Rating: 72\n",
            "Player: Donte DiVincenzo | Rating: 72\n",
            "Player: Jared Dudley | Rating: 72\n",
            "Player: Cristiano Felicio | Rating: 72\n",
            "Player: Tim Frazier | Rating: 72\n",
            "Player: Langston Galloway | Rating: 72\n",
            "Player: Justin Holiday | Rating: 72\n",
            "Player: Chandler Hutchison | Rating: 72\n",
            "Player: Wesley Iwundu | Rating: 72\n",
            "Player: Brandon Knight | Rating: 72\n",
            "Player: Courtney Lee | Rating: 72\n",
            "Player: Thon Maker | Rating: 72\n",
            "Player: Patrick McCaw | Rating: 72\n",
            "Player: Rodney McGruder | Rating: 72\n",
            "Player: Darius Miller | Rating: 72\n",
            "Player: Raul Neto | Rating: 72\n",
            "Player: Georges Niang | Rating: 72\n",
            "Player: Cameron Payne | Rating: 72\n",
            "Player: Anfernee Simons | Rating: 72\n",
            "Player: Zhaire Smith | Rating: 72\n",
            "Player: Anthony Tolliver | Rating: 72\n",
            "Player: DJ Wilson | Rating: 72\n",
            "Player: Alfonzo McKinnie | Rating: 72\n",
            "Player: Romeo Langford | Rating: 72\n",
            "Player: Grant Williams | Rating: 72\n",
            "Player: Nicolas Claxton | Rating: 72\n",
            "Player: PJ Washington | Rating: 72\n",
            "Player: Ryan Arcidiacono | Rating: 72\n",
            "Player: Kevin Porter | Rating: 72\n",
            "Player: Ryan Broekhoff | Rating: 72\n",
            "Player: Goga Bitadze | Rating: 72\n",
            "Player: De'Anthony Melton | Rating: 72\n",
            "Player: Kenrich Williams | Rating: 72\n",
            "Player: Nickeil Alexander-Walker | Rating: 72\n",
            "Player: Chuma Okeke | Rating: 72\n",
            "Player: Matisse Thybulle | Rating: 72\n",
            "Player: Cameron Johnson | Rating: 72\n",
            "Player: Ty Jerome | Rating: 72\n",
            "Player: Luka Samanic | Rating: 72\n",
            "Player: Keldon Johnson | Rating: 72\n",
            "Player: Matt Thomas | Rating: 72\n",
            "Player: Chris Boucher | Rating: 71\n",
            "Player: Jevon Carter | Rating: 71\n",
            "Player: Deyonta Davis | Rating: 71\n",
            "Player: Jacob Evans | Rating: 71\n",
            "Player: Terrance Ferguson | Rating: 71\n",
            "Player: Daniel Gafford | Rating: 71\n",
            "Player: Treveon Graham | Rating: 71\n",
            "Player: Frank Jackson | Rating: 71\n",
            "Player: Luke Kornet | Rating: 71\n",
            "Player: Frank Mason | Rating: 71\n",
            "Player: Ben McLemore | Rating: 71\n",
            "Player: Dzanan Musa | Rating: 71\n",
            "Player: Elie Okobo | Rating: 71\n",
            "Player: Jerome Robinson | Rating: 71\n",
            "Player: JaKarr Sampson | Rating: 71\n",
            "Player: Edmond Sumner | Rating: 71\n",
            "Player: Gary Trent Jr | Rating: 71\n",
            "Player: Moritz Wagner | Rating: 71\n",
            "Player: Admiral Schofield | Rating: 71\n",
            "Player: Bruno Fernando | Rating: 71\n",
            "Player: Alen Smailagic | Rating: 71\n",
            "Player: Eric Paschall | Rating: 71\n",
            "Player: Carsen Edwards | Rating: 71\n",
            "Player: KZ Okpala | Rating: 71\n",
            "Player: Shake Milton | Rating: 71\n",
            "Player: Chimezie Metu | Rating: 71\n",
            "Player: Keita Bates-Diop | Rating: 70\n",
            "Player: Darius Bazley | Rating: 70\n",
            "Player: Tony Bradley | Rating: 70\n",
            "Player: Hamidou Diallo | Rating: 70\n",
            "Player: Melvin Frazier | Rating: 70\n",
            "Player: Solomon Hill | Rating: 70\n",
            "Player: Alize Johnson | Rating: 70\n",
            "Player: Skal Labissiere | Rating: 70\n",
            "Player: Tyler Lydon | Rating: 70\n",
            "Player: Sviatoslav Mykhailiuk | Rating: 70\n",
            "Player: Johnathan Motley | Rating: 70\n",
            "Player: Abdel Nader | Rating: 70\n",
            "Player: Miles Plumlee | Rating: 70\n",
            "Player: Caleb Swanigan | Rating: 70\n",
            "Player: Jarred Vanderbilt | Rating: 70\n",
            "Player: Jemerrio Jones | Rating: 70\n",
            "Player: Jordan Poole | Rating: 70\n",
            "Player: Talen Horton-Tucker | Rating: 70\n",
            "Player: Yante Maten | Rating: 70\n",
            "Player: Thanasis Antetokounmpo | Rating: 70\n",
            "Player: Naz Reid | Rating: 70\n",
            "Player: Ignas Brazdeikis | Rating: 70\n",
            "Player: Deonte Burton | Rating: 70\n",
            "Player: Justin James | Rating: 70\n",
            "Player: Henry Ellenson | Rating: 69\n",
            "Player: Devonte Graham | Rating: 69\n",
            "Player: Amile Jefferson | Rating: 69\n",
            "Player: Khyri Thomas | Rating: 69\n",
            "Player: Theo Pinson | Rating: 69\n",
            "Player: Gary Clark | Rating: 69\n",
            "Player: Terance Mann | Rating: 69\n",
            "Player: Cam Reynolds | Rating: 69\n",
            "Player: Tyrone Wallace | Rating: 69\n",
            "Player: Miye Oni | Rating: 69\n",
            "Player: Malcolm Miller | Rating: 69\n",
            "Player: Isaac Bonga | Rating: 68\n",
            "Player: Isaiah Hartenstein | Rating: 68\n",
            "Player: Jordan McRae | Rating: 68\n",
            "Player: Brandon Goodwin | Rating: 68\n",
            "Player: Michael Frazier | Rating: 68\n",
            "Player: Kostas Antetokounmpo | Rating: 68\n",
            "Player: Jalen Lecque | Rating: 68\n",
            "Player: Duncan Robinson | Rating: 67\n"
          ]
        }
      ]
    },
    {
      "cell_type": "markdown",
      "source": [
        "ask query 1"
      ],
      "metadata": {
        "id": "cOu6dbKDURmT"
      }
    },
    {
      "cell_type": "code",
      "source": [
        "queryask1 = \"\"\"\n",
        "ASK\n",
        "WHERE {\n",
        "  ?player foaf:name \"Kelly Olynyk\" .\n",
        "}\n",
        "\"\"\"\n",
        "result = g.query(queryask1)\n",
        "\n",
        "\n",
        "\n",
        "print(f\"Player exists: {result}\")\n",
        "\n",
        "print(f\"Player exists: {result.askAnswer}\")"
      ],
      "metadata": {
        "colab": {
          "base_uri": "https://localhost:8080/"
        },
        "id": "NJyUff1YUUwh",
        "outputId": "271396e5-d74c-4c71-ee3b-bb3865be71f0"
      },
      "execution_count": 6,
      "outputs": [
        {
          "output_type": "stream",
          "name": "stdout",
          "text": [
            "Player exists: <rdflib.plugins.sparql.processor.SPARQLResult object at 0x7ab5605d48b0>\n",
            "Player exists: True\n"
          ]
        }
      ]
    },
    {
      "cell_type": "markdown",
      "source": [
        "ask query 2"
      ],
      "metadata": {
        "id": "obS5maEpaH5Z"
      }
    },
    {
      "cell_type": "code",
      "source": [
        "queryask2 = \"\"\"\n",
        "PREFIX nba: <http://example.org/nba2k20#>\n",
        "ASK {\n",
        "  ?player rdf:type nba:Player ;\n",
        "          foaf:name \"LeBron James\" ;\n",
        "          nba:team \"Los Angeles Lakers\" .\n",
        "}\n",
        "\"\"\"\n",
        "result = g.query(queryask2)\n",
        "\n",
        "print(f\"LeBron James is in the Los Angeles Lakers: {result}\")\n",
        "\n",
        "print(f\"LeBron James is in the Los Angeles Lakers: {result.askAnswer}\")"
      ],
      "metadata": {
        "colab": {
          "base_uri": "https://localhost:8080/"
        },
        "id": "QKEtVPV-XlXF",
        "outputId": "37363833-4e39-4b07-f9bc-98d705eed41a"
      },
      "execution_count": 7,
      "outputs": [
        {
          "output_type": "stream",
          "name": "stdout",
          "text": [
            "LeBron James is in the Los Angeles Lakers: <rdflib.plugins.sparql.processor.SPARQLResult object at 0x7ab55ba0a560>\n",
            "LeBron James is in the Los Angeles Lakers: True\n"
          ]
        }
      ]
    },
    {
      "cell_type": "markdown",
      "source": [
        "describe query"
      ],
      "metadata": {
        "id": "wAkMQoXoUWLy"
      }
    },
    {
      "cell_type": "code",
      "source": [
        "querydes = \"\"\"\n",
        "DESCRIBE ?player\n",
        "WHERE {\n",
        "  ?player foaf:name \"Kelly Olynyk\" .\n",
        "}\n",
        "\"\"\"\n",
        "result = g.query(querydes)\n",
        "for row in result:\n",
        "    print(row)\n"
      ],
      "metadata": {
        "colab": {
          "base_uri": "https://localhost:8080/"
        },
        "id": "9UHT5i0ZUgMm",
        "outputId": "145d7cd3-ce2f-40e8-9ffd-c2c5f8becf79"
      },
      "execution_count": 8,
      "outputs": [
        {
          "output_type": "stream",
          "name": "stdout",
          "text": [
            "(rdflib.term.URIRef('http://example.org/Kelly_Olynyk'), rdflib.term.URIRef('http://example.org/nba2k20#draft_peak'), rdflib.term.Literal('13'))\n",
            "(rdflib.term.URIRef('http://example.org/Kelly_Olynyk'), rdflib.term.URIRef('http://example.org/nba2k20#team'), rdflib.term.Literal('Miami Heat'))\n",
            "(rdflib.term.URIRef('http://example.org/Kelly_Olynyk'), rdflib.term.URIRef('http://example.org/nba2k20#position'), rdflib.term.Literal('C'))\n",
            "(rdflib.term.URIRef('http://example.org/Kelly_Olynyk'), rdflib.term.URIRef('http://example.org/nba2k20#draft_round'), rdflib.term.Literal('1'))\n",
            "(rdflib.term.URIRef('http://example.org/Kelly_Olynyk'), rdflib.term.URIRef('http://example.org/nba2k20#b_day'), rdflib.term.Literal('04/19/91'))\n",
            "(rdflib.term.URIRef('http://example.org/Kelly_Olynyk'), rdflib.term.URIRef('http://xmlns.com/foaf/0.1/name'), rdflib.term.Literal('Kelly Olynyk'))\n",
            "(rdflib.term.URIRef('http://example.org/Kelly_Olynyk'), rdflib.term.URIRef('http://example.org/nba2k20#height'), rdflib.term.Literal('6-11 / 2.11'))\n",
            "(rdflib.term.URIRef('http://example.org/Kelly_Olynyk'), rdflib.term.URIRef('http://example.org/nba2k20#rating'), rdflib.term.Literal('78', datatype=rdflib.term.URIRef('http://www.w3.org/2001/XMLSchema#integer')))\n",
            "(rdflib.term.URIRef('http://example.org/Kelly_Olynyk'), rdflib.term.URIRef('http://example.org/nba2k20#jersey'), rdflib.term.Literal('#9'))\n",
            "(rdflib.term.URIRef('http://example.org/Kelly_Olynyk'), rdflib.term.URIRef('http://example.org/nba2k20#salary'), rdflib.term.Literal('$12667885'))\n",
            "(rdflib.term.URIRef('http://example.org/Kelly_Olynyk'), rdflib.term.URIRef('http://example.org/nba2k20#version'), rdflib.term.Literal('NBA2k20'))\n",
            "(rdflib.term.URIRef('http://example.org/Kelly_Olynyk'), rdflib.term.URIRef('http://www.w3.org/1999/02/22-rdf-syntax-ns#type'), rdflib.term.URIRef('http://example.org/nba2k20#Player'))\n",
            "(rdflib.term.URIRef('http://example.org/Kelly_Olynyk'), rdflib.term.URIRef('http://example.org/nba2k20#college'), rdflib.term.Literal('Gonzaga'))\n",
            "(rdflib.term.URIRef('http://example.org/Kelly_Olynyk'), rdflib.term.URIRef('http://example.org/nba2k20#draft_year'), rdflib.term.Literal('2013', datatype=rdflib.term.URIRef('http://www.w3.org/2001/XMLSchema#integer')))\n",
            "(rdflib.term.URIRef('http://example.org/Kelly_Olynyk'), rdflib.term.URIRef('http://example.org/nba2k20#country'), rdflib.term.Literal('Canada'))\n",
            "(rdflib.term.URIRef('http://example.org/Kelly_Olynyk'), rdflib.term.URIRef('http://example.org/nba2k20#weight'), rdflib.term.Literal('234 lbs. / 106.1 kg.'))\n"
          ]
        }
      ]
    },
    {
      "cell_type": "markdown",
      "source": [
        "aggregates query 1"
      ],
      "metadata": {
        "id": "iU2Uy-Y3UjvY"
      }
    },
    {
      "cell_type": "code",
      "source": [
        "queryag1 = \"\"\"\n",
        "SELECT (AVG(?rating) AS ?avg_rating)\n",
        "WHERE {\n",
        "  ?player nba:rating ?rating .\n",
        "}\n",
        "\"\"\"\n",
        "result = g.query(queryag1)\n",
        "for row in result:\n",
        "    print(f\"Average Rating: {row['avg_rating']}\")\n"
      ],
      "metadata": {
        "colab": {
          "base_uri": "https://localhost:8080/"
        },
        "id": "t6pqBA5vUmuR",
        "outputId": "b40e52d5-a9ea-4906-e09e-6b1cedb838dc"
      },
      "execution_count": 9,
      "outputs": [
        {
          "output_type": "stream",
          "name": "stdout",
          "text": [
            "Average Rating: 77.16592920353982300884955752\n"
          ]
        }
      ]
    },
    {
      "cell_type": "markdown",
      "source": [
        "aggregates query 2"
      ],
      "metadata": {
        "id": "z2wF-7KzbWxf"
      }
    },
    {
      "cell_type": "code",
      "source": [
        "queryag2 = \"\"\"\n",
        "SELECT (COUNT(?rating) as ?count_rating)\n",
        "WHERE {\n",
        "  ?player nba:rating ?rating .\n",
        "  FILTER(?rating = 97)\n",
        "}\n",
        "\"\"\"\n",
        "\n",
        "result = g.query(queryag2)\n",
        "for row in result:\n",
        "    print(\"There is\",row[\"count_rating\"], \"that have rating 97\")"
      ],
      "metadata": {
        "colab": {
          "base_uri": "https://localhost:8080/"
        },
        "id": "vNnzKf-ibZrZ",
        "outputId": "59c3d5eb-51e2-4ffe-c9e2-8afb5744ddf3"
      },
      "execution_count": 10,
      "outputs": [
        {
          "output_type": "stream",
          "name": "stdout",
          "text": [
            "There is 3 that have rating 97\n"
          ]
        }
      ]
    },
    {
      "cell_type": "markdown",
      "source": [
        "nested query 1"
      ],
      "metadata": {
        "id": "9xTUMC-jUosT"
      }
    },
    {
      "cell_type": "code",
      "source": [
        "querynes1 = \"\"\"\n",
        "SELECT ?name ?position\n",
        "WHERE {\n",
        "  ?player foaf:name ?name ;\n",
        "          nba:country \"Spain\" .\n",
        "  {\n",
        "    SELECT ?position\n",
        "    WHERE {\n",
        "      ?player nba:position ?position ;\n",
        "      FILTER(?position = \"C\")\n",
        "    }\n",
        "  }\n",
        "}\n",
        "\"\"\"\n",
        "result = g.query(querynes1)\n",
        "\n",
        "dot_data_querynes1 = f\"digraph G {{\\n\"\n",
        "\n",
        "for row in result:\n",
        "    subject = str(row['name']).split(\"/\")[-1].replace(\"_\", \" \")\n",
        "    position = str(row['position']).split(\"/\")[-1].replace(\"_\", \" \")\n",
        "\n",
        "    dot_data_querynes1 += (f' \"{subject}\" -> \"{position}\" [label=\"has position\"];\\n')\n",
        "dot_data_querynes1 += \"}\"\n",
        "\n",
        "graph = graphviz.Source(dot_data_querynes1)\n",
        "graph.format = \"pdf\"\n",
        "graph.render(filename=\"query_nested1_graph\", view=True)\n",
        "\n",
        "for row in result:\n",
        "    print(f\"Player Name: {row['name']}, Position: {row['position']}\")\n"
      ],
      "metadata": {
        "colab": {
          "base_uri": "https://localhost:8080/"
        },
        "id": "k29Ju7WFUssD",
        "outputId": "0e4010c2-af72-440b-d9e1-c5ba1e899b5a"
      },
      "execution_count": 11,
      "outputs": [
        {
          "output_type": "stream",
          "name": "stdout",
          "text": [
            "Player Name: Marc Gasol, Position: C\n",
            "Player Name: Pau Gasol, Position: C\n"
          ]
        }
      ]
    },
    {
      "cell_type": "markdown",
      "source": [
        "nested query 2"
      ],
      "metadata": {
        "id": "7lHNkbLeddzQ"
      }
    },
    {
      "cell_type": "code",
      "source": [
        "querynes2 = \"\"\"\n",
        "SELECT ?player ?name ?team ?jersey\n",
        "WHERE {\n",
        "  ?player a nba:Player ;\n",
        "          nba:team ?team ;\n",
        "          nba:jersey ?jersey ;\n",
        "          foaf:name ?name .\n",
        "  {\n",
        "    SELECT ?team\n",
        "    WHERE {\n",
        "      ?player nba:team ?team ;\n",
        "      FILTER(?team = \"Los Angeles Lakers\")\n",
        "    }\n",
        "  }\n",
        "}\n",
        "\"\"\"\n",
        "\n",
        "result = g.query(querynes2)\n",
        "\n",
        "dot_data_querynes2 = f\"digraph G {{\\n\"\n",
        "\n",
        "for row in result:\n",
        "    subject = str(row['name']).split(\"/\")[-1].replace(\"_\", \" \")\n",
        "    team = str(row['team']).split(\"/\")[-1].replace(\"_\", \" \")\n",
        "    jersey = str(row['jersey']).split(\"/\")[-1].replace(\"_\", \" \")\n",
        "\n",
        "    dot_data_querynes2 += (f' \"{subject}\" -> \"{team}\" [label=\"current Team\"];\\n')\n",
        "    dot_data_querynes2 += (f' \"{subject}\" -> \"{jersey}\" [label=\"has jersey\"];\\n')\n",
        "dot_data_querynes2 += \"}\"\n",
        "\n",
        "graph = graphviz.Source(dot_data_querynes2)\n",
        "graph.format = \"pdf\"\n",
        "graph.render(filename=\"query_nested2_graph\", view=True)\n",
        "\n",
        "for row in result:\n",
        "    print(f\"Player Name: {row['name']}, Team: {row['team']}, Jersey Number: {row['jersey']}\")\n"
      ],
      "metadata": {
        "colab": {
          "base_uri": "https://localhost:8080/"
        },
        "id": "_Va0flswXLLX",
        "outputId": "b2f4c10e-83eb-4890-a9a7-ad2798d187ef"
      },
      "execution_count": 12,
      "outputs": [
        {
          "output_type": "stream",
          "name": "stdout",
          "text": [
            "Player Name: LeBron James, Team: Los Angeles Lakers, Jersey Number: #23\n",
            "Player Name: LeBron James, Team: Los Angeles Lakers, Jersey Number: #6\n",
            "Player Name: Anthony Davis, Team: Los Angeles Lakers, Jersey Number: #3\n",
            "Player Name: Kyle Kuzma, Team: Los Angeles Lakers, Jersey Number: #0\n",
            "Player Name: JaVale McGee, Team: Los Angeles Lakers, Jersey Number: #7\n",
            "Player Name: Danny Green, Team: Los Angeles Lakers, Jersey Number: #14\n",
            "Player Name: Avery Bradley, Team: Los Angeles Lakers, Jersey Number: #11\n",
            "Player Name: Kentavious Caldwell-Pope, Team: Los Angeles Lakers, Jersey Number: #1\n",
            "Player Name: Rajon Rondo, Team: Los Angeles Lakers, Jersey Number: #9\n",
            "Player Name: Dion Waiters, Team: Los Angeles Lakers, Jersey Number: #11\n",
            "Player Name: Markieff Morris, Team: Los Angeles Lakers, Jersey Number: #88\n",
            "Player Name: Quinn Cook, Team: Los Angeles Lakers, Jersey Number: #2\n",
            "Player Name: Alex Caruso, Team: Los Angeles Lakers, Jersey Number: #4\n",
            "Player Name: Jared Dudley, Team: Los Angeles Lakers, Jersey Number: #10\n",
            "Player Name: Talen Horton-Tucker, Team: Los Angeles Lakers, Jersey Number: #5\n",
            "Player Name: Kostas Antetokounmpo, Team: Los Angeles Lakers, Jersey Number: #37\n"
          ]
        }
      ]
    },
    {
      "cell_type": "markdown",
      "source": [
        "federated query"
      ],
      "metadata": {
        "id": "abNJyUUSUuGZ"
      }
    }
  ],
  "metadata": {
    "colab": {
      "provenance": []
    },
    "kernelspec": {
      "display_name": "Python 3",
      "name": "python3"
    },
    "language_info": {
      "name": "python"
    }
  },
  "nbformat": 4,
  "nbformat_minor": 0
}